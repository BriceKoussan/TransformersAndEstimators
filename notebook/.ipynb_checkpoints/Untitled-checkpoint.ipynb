{
 "cells": [
  {
   "cell_type": "markdown",
   "metadata": {},
   "source": [
    "# Transformers and Estimators"
   ]
  },
  {
   "cell_type": "markdown",
   "metadata": {},
   "source": [
    "![](./images/transformers.jpg)"
   ]
  },
  {
   "cell_type": "markdown",
   "metadata": {},
   "source": [
    "## Transformer   "
   ]
  },
  {
   "cell_type": "markdown",
   "metadata": {},
   "source": [
    "- **For data preparation**\n",
    "\n",
    " -         **fit** find parameters from training data (if needed)\n",
    " -         **transform** apply to training or test data\n",
    "\n",
    "\n",
    "\n",
    "- **StandardScaler** \n",
    "\n",
    " -           **fit** find mean, standard deviation of each feature\n",
    " -            **transform** subtract mean, ten divide by sd\n",
    "\n",
    "### Multiple Transformers\n",
    "\n",
    "- Go through several transformation steps\n",
    "\n",
    "*from sklearn.preprocessing import (Imputer, PolynomialFeatures,   StandardScaler)*\n",
    "\n",
    " imputer = Imputer()\n",
    " \n",
    " quadratic = PolynomialFeatures()\n",
    " \n",
    " standardizer = Standardscaler()\n",
    "\n",
    "- No one wants to write this:\n",
    "\n",
    " X_train_imp = imputer.fit_transform(X_train_raw)\n",
    " \n",
    " X_train_quad = quadratic.fit_transform(X_train_imp)\n",
    " \n",
    " X_train = standardizer.fit_transform(X_train_quad)\n",
    " \n",
    "\n",
    "- And then this:\n",
    "\n",
    " X_test_imp = imputer.transform(X_test_raw)\n",
    " \n",
    " X_test_quad = quadratic.transform(X_test_imp)\n",
    " \n",
    " X_test = standardizer.transform(X_test_quad) \n",
    "\n",
    "### Pipelines to the rescue !\n",
    "\n",
    "- Instead, put steps together in a *Pipeline*\n",
    "\n",
    "*from sklearn.pipeline import Pipeline*\n",
    "\n",
    "pipeline = Pipeline([\n",
    "        ('imputer', Imputer() ),\n",
    "        ('quadratic', PolynomialFeatures()),\n",
    "        ('standardizer', StandardScaler() )\n",
    "        ])  \n",
    "\n",
    "X_train = pipeline.fit_transform(X_train_raw)\n",
    "\n",
    "X_test = pipeline.transform(X_test_raw)\n",
    "\n",
    "\n",
    "### Transformers in Parallel\n",
    "\n",
    "- Try more than one transformation\n",
    "- Put steps together with a *FeatureUnion*\n",
    "\n",
    "*from sklearn.pipeline import FeatureUnion*\n",
    "\n",
    "feature_union = FeatureUnion([\n",
    "            ('fill_avg', Imputer(strategy='mean')),\n",
    "            ('fill_mid', Imputer(strategy='median')),\n",
    "            ('fill_freq', Imputer(strategy='most_frequent'))]\n",
    "            \n",
    "X_train = feature_union.fit_transform(X_train_raw)\n",
    "\n",
    "X_test = feature_union.transform(X_test_raw)\n",
    "        "
   ]
  },
  {
   "cell_type": "code",
   "execution_count": 1,
   "metadata": {
    "ExecuteTime": {
     "end_time": "2020-04-16T13:23:33.287465Z",
     "start_time": "2020-04-16T13:23:32.524789Z"
    }
   },
   "outputs": [
    {
     "data": {
      "text/html": [
       "<div>\n",
       "<style scoped>\n",
       "    .dataframe tbody tr th:only-of-type {\n",
       "        vertical-align: middle;\n",
       "    }\n",
       "\n",
       "    .dataframe tbody tr th {\n",
       "        vertical-align: top;\n",
       "    }\n",
       "\n",
       "    .dataframe thead th {\n",
       "        text-align: right;\n",
       "    }\n",
       "</style>\n",
       "<table border=\"1\" class=\"dataframe\">\n",
       "  <thead>\n",
       "    <tr style=\"text-align: right;\">\n",
       "      <th></th>\n",
       "      <th>permit_status</th>\n",
       "      <th>permit_type</th>\n",
       "      <th>event_category</th>\n",
       "      <th>event_sub_category</th>\n",
       "      <th>event_location_park</th>\n",
       "      <th>event_location_neighborhood</th>\n",
       "      <th>attendance</th>\n",
       "    </tr>\n",
       "  </thead>\n",
       "  <tbody>\n",
       "    <tr>\n",
       "      <th>0</th>\n",
       "      <td>Complete</td>\n",
       "      <td>Special Event</td>\n",
       "      <td>Athletic</td>\n",
       "      <td>Run/Walk</td>\n",
       "      <td>Gas Works Park</td>\n",
       "      <td>Multiple Neighborhoods</td>\n",
       "      <td>4500.0</td>\n",
       "    </tr>\n",
       "    <tr>\n",
       "      <th>1</th>\n",
       "      <td>Complete</td>\n",
       "      <td>Special Event</td>\n",
       "      <td>Commercial</td>\n",
       "      <td>NaN</td>\n",
       "      <td>NaN</td>\n",
       "      <td>Capitol Hill</td>\n",
       "      <td>27000.0</td>\n",
       "    </tr>\n",
       "    <tr>\n",
       "      <th>2</th>\n",
       "      <td>Complete</td>\n",
       "      <td>Special Event</td>\n",
       "      <td>Community</td>\n",
       "      <td>NaN</td>\n",
       "      <td>NaN</td>\n",
       "      <td>Pioneer Square</td>\n",
       "      <td>705.0</td>\n",
       "    </tr>\n",
       "    <tr>\n",
       "      <th>3</th>\n",
       "      <td>Complete</td>\n",
       "      <td>Special Event</td>\n",
       "      <td>Community</td>\n",
       "      <td>NaN</td>\n",
       "      <td>NaN</td>\n",
       "      <td>Pioneer Square</td>\n",
       "      <td>705.0</td>\n",
       "    </tr>\n",
       "    <tr>\n",
       "      <th>4</th>\n",
       "      <td>Complete</td>\n",
       "      <td>Special Event</td>\n",
       "      <td>Community</td>\n",
       "      <td>NaN</td>\n",
       "      <td>NaN</td>\n",
       "      <td>Pioneer Square</td>\n",
       "      <td>705.0</td>\n",
       "    </tr>\n",
       "  </tbody>\n",
       "</table>\n",
       "</div>"
      ],
      "text/plain": [
       "  permit_status    permit_type event_category event_sub_category  \\\n",
       "0      Complete  Special Event       Athletic           Run/Walk   \n",
       "1      Complete  Special Event     Commercial                NaN   \n",
       "2      Complete  Special Event      Community                NaN   \n",
       "3      Complete  Special Event      Community                NaN   \n",
       "4      Complete  Special Event      Community                NaN   \n",
       "\n",
       "  event_location_park event_location_neighborhood  attendance  \n",
       "0      Gas Works Park      Multiple Neighborhoods      4500.0  \n",
       "1                 NaN                Capitol Hill     27000.0  \n",
       "2                 NaN              Pioneer Square       705.0  \n",
       "3                 NaN              Pioneer Square       705.0  \n",
       "4                 NaN              Pioneer Square       705.0  "
      ]
     },
     "execution_count": 1,
     "metadata": {},
     "output_type": "execute_result"
    }
   ],
   "source": [
    "import pandas as pd\n",
    "import numpy as np\n",
    "import os\n",
    "\n",
    "path_to_data = os.path.join('.','data','Special_Events_Permits_2016.csv')\n",
    "\n",
    "df = pd.read_csv(path_to_data, usecols=['permit_type',\n",
    " 'event_category',\n",
    " 'event_sub_category',\n",
    " 'event_location_park',\n",
    " 'event_location_neighborhood',\n",
    " 'attendance', 'permit_status'])\n",
    "df.head()"
   ]
  },
  {
   "cell_type": "code",
   "execution_count": 2,
   "metadata": {
    "ExecuteTime": {
     "end_time": "2020-04-16T13:24:03.555807Z",
     "start_time": "2020-04-16T13:23:47.933596Z"
    }
   },
   "outputs": [],
   "source": [
    "from sklearn.model_selection import train_test_split\n",
    "\n",
    "df_train, df_test = train_test_split(df)"
   ]
  },
  {
   "cell_type": "code",
   "execution_count": 3,
   "metadata": {
    "ExecuteTime": {
     "end_time": "2020-04-16T13:24:07.249667Z",
     "start_time": "2020-04-16T13:24:07.242638Z"
    }
   },
   "outputs": [
    {
     "data": {
      "text/plain": [
       "array(['Complete', 'In Process', 'Cancelled'], dtype=object)"
      ]
     },
     "execution_count": 3,
     "metadata": {},
     "output_type": "execute_result"
    }
   ],
   "source": [
    "df_train['permit_status'].unique()"
   ]
  },
  {
   "cell_type": "code",
   "execution_count": 16,
   "metadata": {
    "ExecuteTime": {
     "end_time": "2020-04-16T13:40:57.803431Z",
     "start_time": "2020-04-16T13:40:57.796450Z"
    }
   },
   "outputs": [
    {
     "data": {
      "text/plain": [
       "array(['Special Event', 'Valet Parking', 'Charter Vessel'], dtype=object)"
      ]
     },
     "execution_count": 16,
     "metadata": {},
     "output_type": "execute_result"
    }
   ],
   "source": [
    "df.permit_type.unique()"
   ]
  },
  {
   "cell_type": "markdown",
   "metadata": {},
   "source": [
    "*EDA - event_location_park*"
   ]
  },
  {
   "cell_type": "code",
   "execution_count": 6,
   "metadata": {
    "ExecuteTime": {
     "end_time": "2020-04-10T19:23:02.849538Z",
     "start_time": "2020-04-10T19:23:02.839565Z"
    },
    "scrolled": true
   },
   "outputs": [
    {
     "data": {
      "text/plain": [
       "NaN                359\n",
       "Magnuson Park        9\n",
       "Gas Works Park       7\n",
       "Occidental Park      4\n",
       "Volunteer Park       2\n",
       "Name: event_location_park, dtype: int64"
      ]
     },
     "execution_count": 6,
     "metadata": {},
     "output_type": "execute_result"
    }
   ],
   "source": [
    "# Event park: mostly N/A, not exhaustive list\n",
    "(df_train.event_location_park.value_counts(dropna=False)).head()"
   ]
  },
  {
   "cell_type": "code",
   "execution_count": 7,
   "metadata": {
    "ExecuteTime": {
     "end_time": "2020-04-10T19:27:31.151246Z",
     "start_time": "2020-04-10T19:27:31.144265Z"
    }
   },
   "outputs": [
    {
     "data": {
      "text/plain": [
       "3"
      ]
     },
     "execution_count": 7,
     "metadata": {},
     "output_type": "execute_result"
    }
   ],
   "source": [
    "# Estimated Attendance: few missing, right skewed\n",
    "\n",
    "df_train.attendance.isnull().sum()"
   ]
  },
  {
   "cell_type": "code",
   "execution_count": 9,
   "metadata": {
    "ExecuteTime": {
     "end_time": "2020-04-10T19:31:09.390458Z",
     "start_time": "2020-04-10T19:31:09.016063Z"
    }
   },
   "outputs": [
    {
     "data": {
      "text/plain": [
       "<matplotlib.axes._subplots.AxesSubplot at 0x29d5ddb2908>"
      ]
     },
     "execution_count": 9,
     "metadata": {},
     "output_type": "execute_result"
    },
    {
     "data": {
      "image/png": "[encoded data removed]",
      "text/plain": [
       "<Figure size 432x288 with 1 Axes>"
      ]
     },
     "metadata": {
      "needs_background": "light"
     },
     "output_type": "display_data"
    }
   ],
   "source": [
    "import matplotlib.pyplot as plt\n",
    "\n",
    "x = df_train.attendance\n",
    "x.plot(kind='hist', title = 'Histogram of Attendance')\n",
    "\n"
   ]
  },
  {
   "cell_type": "code",
   "execution_count": 11,
   "metadata": {
    "ExecuteTime": {
     "end_time": "2020-04-10T19:33:22.563798Z",
     "start_time": "2020-04-10T19:33:22.333901Z"
    }
   },
   "outputs": [
    {
     "data": {
      "text/plain": [
       "<matplotlib.axes._subplots.AxesSubplot at 0x29d5de9ce10>"
      ]
     },
     "execution_count": 11,
     "metadata": {},
     "output_type": "execute_result"
    },
    {
     "data": {
      "image/png": "[encoded data removed]",
      "text/plain": [
       "<Figure size 432x288 with 1 Axes>"
      ]
     },
     "metadata": {
      "needs_background": "light"
     },
     "output_type": "display_data"
    }
   ],
   "source": [
    "np.log(x).plot(kind='hist', title = 'Histogram of Log Attendance')"
   ]
  },
  {
   "cell_type": "markdown",
   "metadata": {},
   "source": [
    "Help! My Transformer Doesn't Exist!\n",
    "\n",
    "- Use a **FunctionTransformer**\n",
    " - Turns any function into a transformer\n",
    " - Works well for stateless transformations"
   ]
  },
  {
   "cell_type": "code",
   "execution_count": null,
   "metadata": {},
   "outputs": [],
   "source": [
    "from sklearn.preprocessing import FunctionTransformer\n",
    "\n",
    "logger = FunctionTransformer(np.log1p)\n",
    "\n",
    "W_log = logger.transform(X)"
   ]
  },
  {
   "cell_type": "code",
   "execution_count": 4,
   "metadata": {
    "ExecuteTime": {
     "end_time": "2020-04-16T13:27:26.049433Z",
     "start_time": "2020-04-16T13:27:26.041428Z"
    }
   },
   "outputs": [],
   "source": [
    "from sklearn.base import BaseEstimator, TransformerMixin\n",
    "from sklearn.preprocessing import OneHotEncoder, StandardScaler\n",
    "from sklearn.pipeline import FeatureUnion, Pipeline "
   ]
  },
  {
   "cell_type": "code",
   "execution_count": 5,
   "metadata": {
    "ExecuteTime": {
     "end_time": "2020-04-16T13:29:38.685517Z",
     "start_time": "2020-04-16T13:29:38.679532Z"
    }
   },
   "outputs": [],
   "source": [
    "#- Or write your own cunstomer Transformer\n",
    "\n",
    "\n",
    "class Log1pTransformer(TransformerMixin):\n",
    "\n",
    "        def fit(self, X, y=None):\n",
    "            return self\n",
    "            \n",
    "        def transform(self, X):\n",
    "            Xlog = np.log1p(X)\n",
    "            return Xlog"
   ]
  },
  {
   "cell_type": "code",
   "execution_count": 6,
   "metadata": {
    "ExecuteTime": {
     "end_time": "2020-04-16T13:30:06.136672Z",
     "start_time": "2020-04-16T13:30:06.130671Z"
    }
   },
   "outputs": [],
   "source": [
    "class ZeroFillTransformer(TransformerMixin):\n",
    "\n",
    "        def fit(self, X, y=None):\n",
    "            return self\n",
    "            \n",
    "        def transform(self, X):\n",
    "            zfill = X.fillna(value=0)\n",
    "            return zfill"
   ]
  },
  {
   "cell_type": "markdown",
   "metadata": {},
   "source": [
    "### Custom Transformer- One Hot Encoding\n",
    "\n",
    "- Goal: Turn string column into set of dummy variables\n"
   ]
  },
  {
   "cell_type": "code",
   "execution_count": 7,
   "metadata": {
    "ExecuteTime": {
     "end_time": "2020-04-16T13:30:37.720209Z",
     "start_time": "2020-04-16T13:30:37.360709Z"
    }
   },
   "outputs": [],
   "source": [
    "from sklearn.feature_extraction import DictVectorizer\n",
    "\n",
    "class DummyTransformer(TransformerMixin):\n",
    "    \n",
    "    def __init__(self):\n",
    "        self.dv = None\n",
    "        \n",
    "    def fit(self, X, y=None):\n",
    "        Xdict = X.to_dict('records')\n",
    "        self.dv = DictVectorizer(sparse= False)\n",
    "        self.dv.fit(Xdict)\n",
    "        return self\n",
    "\n",
    "    def transform(self, X):\n",
    "    \n",
    "        Xdict = X.to_dict('records')\n",
    "        Xt = self.dv.transform(Xdict)\n",
    "        cols = self.dv.get_feature_names()\n",
    "        Xdum = pd.DataFrame(Xt, index= X.index, columns = cols)\n",
    "        return Xdum\n",
    "        "
   ]
  },
  {
   "cell_type": "markdown",
   "metadata": {},
   "source": [
    "- Convert each row to map: column name --> value\n",
    "- then fit DictVectorizer\n"
   ]
  },
  {
   "cell_type": "markdown",
   "metadata": {},
   "source": [
    "- Convert to map and apply *DictVectrorizer*\n",
    "- then convert back to DataFrame\n"
   ]
  },
  {
   "cell_type": "markdown",
   "metadata": {},
   "source": [
    "### Custom Transformer - Subset Columns"
   ]
  },
  {
   "cell_type": "code",
   "execution_count": 8,
   "metadata": {
    "ExecuteTime": {
     "end_time": "2020-04-16T13:31:28.805938Z",
     "start_time": "2020-04-16T13:31:28.799798Z"
    }
   },
   "outputs": [],
   "source": [
    "class ColumnExtractor(TransformerMixin):\n",
    "    \n",
    "    def __init__(self, cols):\n",
    "        self.cols = cols\n",
    "        \n",
    "    def fit(self, X, y=None):\n",
    "        return self\n",
    "    \n",
    "    def transform(self, X):\n",
    "        Xcols = X[self.cols]\n",
    "        return Xcols"
   ]
  },
  {
   "cell_type": "code",
   "execution_count": 9,
   "metadata": {
    "ExecuteTime": {
     "end_time": "2020-04-16T13:31:34.505961Z",
     "start_time": "2020-04-16T13:31:34.493994Z"
    }
   },
   "outputs": [],
   "source": [
    "#Custom Transformer that extracts columns passed as argument to its constructor \n",
    "\n",
    "class FeatureSelector( BaseEstimator, TransformerMixin ):\n",
    "\n",
    "    #Class Constructor \n",
    "\n",
    "    def __init__( self, feature_names ):\n",
    "\n",
    "        self._feature_names = feature_names \n",
    "\n",
    "    \n",
    "\n",
    "    #Return self nothing else to do here    \n",
    "\n",
    "    def fit( self, X, y = None ):\n",
    "\n",
    "        return self \n",
    "\n",
    "    \n",
    "\n",
    "    #Method that describes what we need this transformer to do\n",
    "\n",
    "    def transform( self, X, y = None ):\n",
    "\n",
    "        return X[ self._feature_names ] "
   ]
  },
  {
   "cell_type": "markdown",
   "metadata": {},
   "source": [
    "### Customer Transformer - Standardization\n"
   ]
  },
  {
   "cell_type": "code",
   "execution_count": 82,
   "metadata": {
    "ExecuteTime": {
     "end_time": "2020-04-16T15:01:16.646201Z",
     "start_time": "2020-04-16T15:01:16.640218Z"
    }
   },
   "outputs": [],
   "source": [
    "from sklearn.preprocessing import (Imputer, PolynomialFeatures,   StandardScaler)\n",
    "\n",
    "class DFStandardScaler(TransformerMixin):\n",
    "    \n",
    "    def __init__(self):\n",
    "        self.ss = None\n",
    "        \n",
    "    def fit(self, X, y=None):\n",
    "        self.ss = StandardScaler().fit(X)\n",
    "        return self\n",
    "    \n",
    "    def transform(self, X):\n",
    "        Xss = self.ss.transform(X)\n",
    "        Xscaled = pd.DataFrame(Xss)\n",
    "        return Xscaled"
   ]
  },
  {
   "cell_type": "markdown",
   "metadata": {},
   "source": [
    "### Putting it All Together -Feature Engineering \n",
    "\n",
    "- List feature by transformation strategy\n"
   ]
  },
  {
   "cell_type": "code",
   "execution_count": 57,
   "metadata": {
    "ExecuteTime": {
     "end_time": "2020-04-16T14:50:38.959585Z",
     "start_time": "2020-04-16T14:50:38.953601Z"
    }
   },
   "outputs": [
    {
     "data": {
      "text/plain": [
       "(529, 7)"
      ]
     },
     "execution_count": 57,
     "metadata": {},
     "output_type": "execute_result"
    }
   ],
   "source": [
    "df.shape"
   ]
  },
  {
   "cell_type": "code",
   "execution_count": 61,
   "metadata": {
    "ExecuteTime": {
     "end_time": "2020-04-16T14:52:04.648581Z",
     "start_time": "2020-04-16T14:52:04.638643Z"
    }
   },
   "outputs": [
    {
     "data": {
      "text/plain": [
       "permit_status                   0.000000\n",
       "permit_type                     0.000000\n",
       "event_category                 19.092628\n",
       "event_sub_category             85.066163\n",
       "event_location_park            92.060491\n",
       "event_location_neighborhood     0.000000\n",
       "attendance                      0.567108\n",
       "dtype: float64"
      ]
     },
     "execution_count": 61,
     "metadata": {},
     "output_type": "execute_result"
    }
   ],
   "source": [
    "(df.isna().sum()/df.shape[0])*100"
   ]
  },
  {
   "cell_type": "code",
   "execution_count": 86,
   "metadata": {
    "ExecuteTime": {
     "end_time": "2020-04-16T15:25:37.584298Z",
     "start_time": "2020-04-16T15:25:37.579310Z"
    }
   },
   "outputs": [],
   "source": [
    "CAT_FEATS = ['permit_type','event_category',\n",
    "       'event_location_neighborhood' ]\n",
    "\n",
    "NUM_FEATS = ['attendance']"
   ]
  },
  {
   "cell_type": "code",
   "execution_count": 93,
   "metadata": {
    "ExecuteTime": {
     "end_time": "2020-04-16T15:47:59.983982Z",
     "start_time": "2020-04-16T15:47:59.978000Z"
    }
   },
   "outputs": [],
   "source": [
    "# One Hot Encoding for categorical features\n",
    "from sklearn.pipeline import Pipeline\n",
    "from sklearn.pipeline import FeatureUnion\n",
    "from sklearn.impute import SimpleImputer\n",
    "pipeline = Pipeline([ \n",
    "('features', FeatureUnion([\n",
    "    \n",
    "('categoricals',Pipeline([('extract', FeatureSelector(CAT_FEATS)),\n",
    "                           #('fill_freq', Imputer(strategy='most_frequent')),\n",
    "                          ('dummy', DummyTransformer())\n",
    "                         ])),\n",
    " ('numerics', Pipeline([('extract', FeatureSelector(NUM_FEATS)),\n",
    "                          ('zero_fill', ZeroFillTransformer()),\n",
    "                         ('log', Log1pTransformer())\n",
    "                         ]))])),\n",
    "    ('scale', DFStandardScaler())])"
   ]
  },
  {
   "cell_type": "markdown",
   "metadata": {},
   "source": [
    "### Putting it All Together- A Better Model"
   ]
  },
  {
   "cell_type": "code",
   "execution_count": 29,
   "metadata": {
    "ExecuteTime": {
     "end_time": "2020-04-16T14:21:47.895901Z",
     "start_time": "2020-04-16T14:21:47.889881Z"
    }
   },
   "outputs": [],
   "source": [
    "from sklearn.linear_model import LogisticRegression\n",
    "from sklearn.metrics import roc_auc_score"
   ]
  },
  {
   "cell_type": "code",
   "execution_count": 95,
   "metadata": {
    "ExecuteTime": {
     "end_time": "2020-04-16T15:48:25.934013Z",
     "start_time": "2020-04-16T15:48:25.892124Z"
    }
   },
   "outputs": [
    {
     "name": "stderr",
     "output_type": "stream",
     "text": [
      "C:\\Users\\ASSAHOUA JOSEPH\\Anaconda3\\lib\\site-packages\\sklearn\\linear_model\\logistic.py:432: FutureWarning: Default solver will be changed to 'lbfgs' in 0.22. Specify a solver to silence this warning.\n",
      "  FutureWarning)\n"
     ]
    }
   ],
   "source": [
    "\n",
    "\n",
    "\n",
    "# Apply Pipeline\n",
    "\n",
    "X_train = pipeline.fit_transform(df_train.drop(['permit_status'], axis=1))\n",
    "\n",
    "X_test = pipeline.transform(df_test.drop(['permit_status'], axis=1))\n",
    "\n",
    "y_train = np.where(df_train.permit_status == 'Complete', 1, 0)\n",
    "\n",
    "y_test = np.where(df_test.permit_status == 'Complete', 1, 0)\n",
    "\n",
    "# Fit model\n",
    "model = LogisticRegression()\n",
    "model.fit(X_train.drop(labels=0, axis=1), y_train)\n",
    "\n",
    "# Predict on test data\n",
    "\n",
    "p_pred_test = model.predict_proba(X_test.drop(labels=0, axis=1))[:, 1]\n",
    "\n",
    "# Measure performance on test data\n",
    "\n",
    "auc_test = roc_auc_score(y_test, p_pred_test)"
   ]
  },
  {
   "cell_type": "code",
   "execution_count": 96,
   "metadata": {
    "ExecuteTime": {
     "end_time": "2020-04-16T15:48:29.040775Z",
     "start_time": "2020-04-16T15:48:29.034793Z"
    }
   },
   "outputs": [
    {
     "data": {
      "text/plain": [
       "0.639423076923077"
      ]
     },
     "execution_count": 96,
     "metadata": {},
     "output_type": "execute_result"
    }
   ],
   "source": [
    "auc_test"
   ]
  },
  {
   "cell_type": "markdown",
   "metadata": {},
   "source": [
    "## Estimator"
   ]
  },
  {
   "cell_type": "markdown",
   "metadata": {},
   "source": [
    "- **For modeling**\n",
    "\n",
    " - **fit** find parameters from training data\n",
    " - **predict** apply to training or test data\n",
    "\n",
    "- **LogisticRegression**\n",
    "\n",
    "  -  **fit** find coefficients in logistic regression formula\n",
    "  -  **predict** plug into formula, get predicted class"
   ]
  }
 ],
 "metadata": {
  "hide_input": false,
  "kernelspec": {
   "display_name": "Python 3",
   "language": "python",
   "name": "python3"
  },
  "language_info": {
   "codemirror_mode": {
    "name": "ipython",
    "version": 3
   },
   "file_extension": ".py",
   "mimetype": "text/x-python",
   "name": "python",
   "nbconvert_exporter": "python",
   "pygments_lexer": "ipython3",
   "version": "3.7.3"
  },
  "toc": {
   "base_numbering": 1,
   "nav_menu": {},
   "number_sections": false,
   "sideBar": true,
   "skip_h1_title": false,
   "title_cell": "Table of Contents",
   "title_sidebar": "Contents",
   "toc_cell": false,
   "toc_position": {},
   "toc_section_display": true,
   "toc_window_display": false
  },
  "varInspector": {
   "cols": {
    "lenName": 16,
    "lenType": 16,
    "lenVar": 40
   },
   "kernels_config": {
    "python": {
     "delete_cmd_postfix": "",
     "delete_cmd_prefix": "del ",
     "library": "var_list.py",
     "varRefreshCmd": "print(var_dic_list())"
    },
    "r": {
     "delete_cmd_postfix": ") ",
     "delete_cmd_prefix": "rm(",
     "library": "var_list.r",
     "varRefreshCmd": "cat(var_dic_list()) "
    }
   },
   "types_to_exclude": [
    "module",
    "function",
    "builtin_function_or_method",
    "instance",
    "_Feature"
   ],
   "window_display": false
  }
 },
 "nbformat": 4,
 "nbformat_minor": 2
}
